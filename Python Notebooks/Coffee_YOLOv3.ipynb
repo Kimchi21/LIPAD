{
  "nbformat": 4,
  "nbformat_minor": 0,
  "metadata": {
    "colab": {
      "provenance": [],
      "gpuType": "T4",
      "collapsed_sections": [
        "vgvUKZGAPKnc",
        "zxJGXkmSPYgQ",
        "rbKA7ERCPfFm"
      ]
    },
    "kernelspec": {
      "name": "python3",
      "display_name": "Python 3"
    },
    "language_info": {
      "name": "python"
    },
    "accelerator": "GPU",
    "gpuClass": "standard"
  },
  "cells": [
    {
      "cell_type": "code",
      "source": [
        "from google.colab import drive\n",
        "drive.mount('/content/drive', force_remount=True)"
      ],
      "metadata": {
        "id": "P5rXGMuORK02",
        "colab": {
          "base_uri": "https://localhost:8080/"
        },
        "outputId": "82e9e9b9-20f9-47cf-ecb8-c09b4dcac7a3"
      },
      "execution_count": null,
      "outputs": [
        {
          "output_type": "stream",
          "name": "stdout",
          "text": [
            "Mounted at /content/drive\n"
          ]
        }
      ]
    },
    {
      "cell_type": "code",
      "source": [
        "cd /content/drive/Shareddrives/YOLOv3_imageai_3.0.3"
      ],
      "metadata": {
        "id": "qpknHWerRKvc",
        "colab": {
          "base_uri": "https://localhost:8080/"
        },
        "outputId": "d02b1501-ae5f-4eea-fdd0-f88ae85a7582"
      },
      "execution_count": null,
      "outputs": [
        {
          "output_type": "stream",
          "name": "stdout",
          "text": [
            "/content/drive/Shareddrives/YOLOv3_imageai_3.0.3\n"
          ]
        }
      ]
    },
    {
      "cell_type": "code",
      "source": [
        "!unzip Coffee_PT.zip"
      ],
      "metadata": {
        "id": "A_S9-TB0RKor",
        "colab": {
          "base_uri": "https://localhost:8080/"
        },
        "outputId": "ae4cd527-f807-424b-8c56-9d96cfd777cb"
      },
      "execution_count": null,
      "outputs": [
        {
          "output_type": "stream",
          "name": "stdout",
          "text": [
            "Archive:  Coffee_PT.zip\n",
            "replace Coffee_PT/train/annotations/classes.txt? [y]es, [n]o, [A]ll, [N]one, [r]ename: N\n"
          ]
        }
      ]
    },
    {
      "cell_type": "code",
      "execution_count": null,
      "metadata": {
        "id": "AclWv0CYI33f"
      },
      "outputs": [],
      "source": [
        "!pip install cython pillow>=7.0.0 numpy>=1.18.1 opencv-python>=4.1.2 torch>=1.9.0 --extra-index-url https://download.pytorch.org/whl/cu102 torchvision>=0.10.0 --extra-index-url https://download.pytorch.org/whl/cu102 pytest==7.1.3 tqdm==4.64.1 scipy>=1.7.3 matplotlib>=3.4.3 mock==4.0.3"
      ]
    },
    {
      "cell_type": "code",
      "source": [
        "!pip install pycocotools@git+https://github.com/gautamchitnis/cocoapi.git@cocodataset-master#subdirectory=PythonAPI"
      ],
      "metadata": {
        "colab": {
          "base_uri": "https://localhost:8080/"
        },
        "id": "o-7zkIOTJKyN",
        "outputId": "18a80430-823b-4ac4-fe87-31acc8ebaa0d"
      },
      "execution_count": null,
      "outputs": [
        {
          "output_type": "stream",
          "name": "stdout",
          "text": [
            "Looking in indexes: https://pypi.org/simple, https://us-python.pkg.dev/colab-wheels/public/simple/\n",
            "Collecting pycocotools@ git+https://github.com/gautamchitnis/cocoapi.git@cocodataset-master#subdirectory=PythonAPI\n",
            "  Cloning https://github.com/gautamchitnis/cocoapi.git (to revision cocodataset-master) to /tmp/pip-install-9lzw0ind/pycocotools_ce08ba26b2bb42d18e6fa0477dda55a5\n",
            "  Running command git clone --filter=blob:none --quiet https://github.com/gautamchitnis/cocoapi.git /tmp/pip-install-9lzw0ind/pycocotools_ce08ba26b2bb42d18e6fa0477dda55a5\n",
            "  Running command git checkout -b cocodataset-master --track origin/cocodataset-master\n",
            "  Switched to a new branch 'cocodataset-master'\n",
            "  Branch 'cocodataset-master' set up to track remote branch 'cocodataset-master' from 'origin'.\n",
            "  Resolved https://github.com/gautamchitnis/cocoapi.git to commit 20291f19c46a8d11935862bc9e449a1b72ec25ed\n",
            "  Preparing metadata (setup.py) ... \u001b[?25l\u001b[?25hdone\n",
            "Building wheels for collected packages: pycocotools\n",
            "  Building wheel for pycocotools (setup.py) ... \u001b[?25l\u001b[?25hdone\n",
            "  Created wheel for pycocotools: filename=pycocotools-2.0-cp310-cp310-linux_x86_64.whl size=386279 sha256=17abe54c1429d4b567fd609bd41768a9f000542d3885a57b9ded4b5c7afed773\n",
            "  Stored in directory: /tmp/pip-ephem-wheel-cache-2ohq0lnl/wheels/83/c2/a9/31695b4858fd20696ebf8ae959a4e447159f8bf667a4c105f3\n",
            "Successfully built pycocotools\n",
            "Installing collected packages: pycocotools\n",
            "  Attempting uninstall: pycocotools\n",
            "    Found existing installation: pycocotools 2.0.6\n",
            "    Uninstalling pycocotools-2.0.6:\n",
            "      Successfully uninstalled pycocotools-2.0.6\n",
            "Successfully installed pycocotools-2.0\n"
          ]
        }
      ]
    },
    {
      "cell_type": "code",
      "source": [
        "!pip install imageai --upgrade"
      ],
      "metadata": {
        "colab": {
          "base_uri": "https://localhost:8080/"
        },
        "id": "xiTrf8-BJN0T",
        "outputId": "003f9c9a-3994-4799-b1f1-87417cf9f1ed"
      },
      "execution_count": null,
      "outputs": [
        {
          "output_type": "stream",
          "name": "stdout",
          "text": [
            "Looking in indexes: https://pypi.org/simple, https://us-python.pkg.dev/colab-wheels/public/simple/\n",
            "Collecting imageai\n",
            "  Downloading imageai-3.0.3-py3-none-any.whl (69 kB)\n",
            "\u001b[2K     \u001b[90m━━━━━━━━━━━━━━━━━━━━━━━━━━━━━━━━━━━━━━━━\u001b[0m \u001b[32m69.8/69.8 kB\u001b[0m \u001b[31m5.2 MB/s\u001b[0m eta \u001b[36m0:00:00\u001b[0m\n",
            "\u001b[?25hInstalling collected packages: imageai\n",
            "Successfully installed imageai-3.0.3\n"
          ]
        }
      ]
    },
    {
      "cell_type": "markdown",
      "source": [
        "#first 25 using pre-trained"
      ],
      "metadata": {
        "id": "vgvUKZGAPKnc"
      }
    },
    {
      "cell_type": "code",
      "source": [
        "from imageai.Detection.Custom import DetectionModelTrainer\n",
        "\n",
        "trainer = DetectionModelTrainer()\n",
        "trainer.setModelTypeAsYOLOv3()\n",
        "trainer.setDataDirectory(data_directory=\"/content/drive/Shareddrives/YOLOv3_imageai_3.0.3/Coffee_PT\")\n",
        "trainer.setTrainConfig(object_names_array=[\"healthy\", \"rust\"], batch_size=4, num_experiments=25, train_from_pretrained_model=\"/content/drive/Shareddrives/YOLOv3_imageai_3.0.3/yolov3.pt\")\n",
        "trainer.trainModel()"
      ],
      "metadata": {
        "colab": {
          "base_uri": "https://localhost:8080/"
        },
        "id": "HbvFhQqgRBHp",
        "outputId": "33371183-8557-4c34-d241-87bbb706f420"
      },
      "execution_count": null,
      "outputs": [
        {
          "output_type": "stream",
          "name": "stdout",
          "text": [
            "Generating anchor boxes for training images...\n",
            "thr=0.25: 1.0000 best possible recall, 8.97 anchors past thr\n",
            "n=9, img_size=416, metric_all=0.704/0.910-mean/best, past_thr=0.706-mean: \n",
            "====================\n",
            "Pretrained YOLOv3 model loaded to initialize weights\n",
            "====================\n",
            "Epoch 1/25\n",
            "----------\n",
            "Train: \n"
          ]
        },
        {
          "output_type": "stream",
          "name": "stderr",
          "text": [
            "240it [01:04,  3.75it/s]\n"
          ]
        },
        {
          "output_type": "stream",
          "name": "stdout",
          "text": [
            "    box loss-> 0.04937, object loss-> 0.09385, class loss-> 0.02602\n",
            "Validation:\n"
          ]
        },
        {
          "output_type": "stream",
          "name": "stderr",
          "text": [
            "120it [02:03,  1.03s/it]\n"
          ]
        },
        {
          "output_type": "stream",
          "name": "stdout",
          "text": [
            "    recall: 0.420625 precision: 0.260247 mAP@0.5: 0.270668, mAP@0.5-0.95: 0.142527\n",
            "\n",
            "Epoch 2/25\n",
            "----------\n",
            "Train: \n"
          ]
        },
        {
          "output_type": "stream",
          "name": "stderr",
          "text": [
            "240it [00:54,  4.41it/s]\n"
          ]
        },
        {
          "output_type": "stream",
          "name": "stdout",
          "text": [
            "    box loss-> 0.03808, object loss-> 0.03459, class loss-> 0.02468\n",
            "Validation:\n"
          ]
        },
        {
          "output_type": "stream",
          "name": "stderr",
          "text": [
            "120it [01:27,  1.37it/s]\n"
          ]
        },
        {
          "output_type": "stream",
          "name": "stdout",
          "text": [
            "    recall: 0.416502 precision: 0.727226 mAP@0.5: 0.414002, mAP@0.5-0.95: 0.203563\n",
            "\n",
            "Epoch 3/25\n",
            "----------\n",
            "Train: \n"
          ]
        },
        {
          "output_type": "stream",
          "name": "stderr",
          "text": [
            "240it [00:54,  4.37it/s]\n"
          ]
        },
        {
          "output_type": "stream",
          "name": "stdout",
          "text": [
            "    box loss-> 0.03482, object loss-> 0.03272, class loss-> 0.02263\n",
            "Validation:\n"
          ]
        },
        {
          "output_type": "stream",
          "name": "stderr",
          "text": [
            "120it [01:06,  1.79it/s]\n"
          ]
        },
        {
          "output_type": "stream",
          "name": "stdout",
          "text": [
            "    recall: 0.790952 precision: 0.692007 mAP@0.5: 0.682677, mAP@0.5-0.95: 0.370962\n",
            "\n",
            "Epoch 4/25\n",
            "----------\n",
            "Train: \n"
          ]
        },
        {
          "output_type": "stream",
          "name": "stderr",
          "text": [
            "240it [00:54,  4.40it/s]\n"
          ]
        },
        {
          "output_type": "stream",
          "name": "stdout",
          "text": [
            "    box loss-> 0.03324, object loss-> 0.02878, class loss-> 0.01953\n",
            "Validation:\n"
          ]
        },
        {
          "output_type": "stream",
          "name": "stderr",
          "text": [
            "120it [00:46,  2.60it/s]\n"
          ]
        },
        {
          "output_type": "stream",
          "name": "stdout",
          "text": [
            "    recall: 0.783264 precision: 0.743279 mAP@0.5: 0.710268, mAP@0.5-0.95: 0.377017\n",
            "\n",
            "Epoch 5/25\n",
            "----------\n",
            "Train: \n"
          ]
        },
        {
          "output_type": "stream",
          "name": "stderr",
          "text": [
            "240it [00:54,  4.41it/s]\n"
          ]
        },
        {
          "output_type": "stream",
          "name": "stdout",
          "text": [
            "    box loss-> 0.03140, object loss-> 0.02539, class loss-> 0.01384\n",
            "Validation:\n"
          ]
        },
        {
          "output_type": "stream",
          "name": "stderr",
          "text": [
            "120it [00:35,  3.43it/s]\n"
          ]
        },
        {
          "output_type": "stream",
          "name": "stdout",
          "text": [
            "    recall: 0.945833 precision: 0.815986 mAP@0.5: 0.844452, mAP@0.5-0.95: 0.513317\n",
            "\n",
            "Epoch 6/25\n",
            "----------\n",
            "Train: \n"
          ]
        },
        {
          "output_type": "stream",
          "name": "stderr",
          "text": [
            "240it [00:54,  4.42it/s]\n"
          ]
        },
        {
          "output_type": "stream",
          "name": "stdout",
          "text": [
            "    box loss-> 0.02885, object loss-> 0.02226, class loss-> 0.00963\n",
            "Validation:\n"
          ]
        },
        {
          "output_type": "stream",
          "name": "stderr",
          "text": [
            "120it [00:30,  3.89it/s]\n"
          ]
        },
        {
          "output_type": "stream",
          "name": "stdout",
          "text": [
            "    recall: 0.916641 precision: 0.851885 mAP@0.5: 0.827864, mAP@0.5-0.95: 0.566123\n",
            "\n",
            "Epoch 7/25\n",
            "----------\n",
            "Train: \n"
          ]
        },
        {
          "output_type": "stream",
          "name": "stderr",
          "text": [
            "240it [00:54,  4.44it/s]\n"
          ]
        },
        {
          "output_type": "stream",
          "name": "stdout",
          "text": [
            "    box loss-> 0.02695, object loss-> 0.02001, class loss-> 0.00634\n",
            "Validation:\n"
          ]
        },
        {
          "output_type": "stream",
          "name": "stderr",
          "text": [
            "120it [00:28,  4.26it/s]\n"
          ]
        },
        {
          "output_type": "stream",
          "name": "stdout",
          "text": [
            "    recall: 0.970833 precision: 0.933719 mAP@0.5: 0.940860, mAP@0.5-0.95: 0.656739\n",
            "\n",
            "Epoch 8/25\n",
            "----------\n",
            "Train: \n"
          ]
        },
        {
          "output_type": "stream",
          "name": "stderr",
          "text": [
            "240it [00:55,  4.35it/s]\n"
          ]
        },
        {
          "output_type": "stream",
          "name": "stdout",
          "text": [
            "    box loss-> 0.02514, object loss-> 0.01876, class loss-> 0.00468\n",
            "Validation:\n"
          ]
        },
        {
          "output_type": "stream",
          "name": "stderr",
          "text": [
            "120it [00:26,  4.54it/s]\n"
          ]
        },
        {
          "output_type": "stream",
          "name": "stdout",
          "text": [
            "    recall: 0.919692 precision: 0.907878 mAP@0.5: 0.920496, mAP@0.5-0.95: 0.613766\n",
            "\n",
            "Epoch 9/25\n",
            "----------\n",
            "Train: \n"
          ]
        },
        {
          "output_type": "stream",
          "name": "stderr",
          "text": [
            "240it [00:54,  4.42it/s]\n"
          ]
        },
        {
          "output_type": "stream",
          "name": "stdout",
          "text": [
            "    box loss-> 0.02215, object loss-> 0.01682, class loss-> 0.00351\n",
            "Validation:\n"
          ]
        },
        {
          "output_type": "stream",
          "name": "stderr",
          "text": [
            "120it [00:25,  4.75it/s]\n"
          ]
        },
        {
          "output_type": "stream",
          "name": "stdout",
          "text": [
            "    recall: 0.958333 precision: 0.919347 mAP@0.5: 0.919953, mAP@0.5-0.95: 0.613920\n",
            "\n",
            "Epoch 10/25\n",
            "----------\n",
            "Train: \n"
          ]
        },
        {
          "output_type": "stream",
          "name": "stderr",
          "text": [
            "240it [00:54,  4.43it/s]\n"
          ]
        },
        {
          "output_type": "stream",
          "name": "stdout",
          "text": [
            "    box loss-> 0.02225, object loss-> 0.01612, class loss-> 0.00285\n",
            "Validation:\n"
          ]
        },
        {
          "output_type": "stream",
          "name": "stderr",
          "text": [
            "120it [00:24,  4.84it/s]\n"
          ]
        },
        {
          "output_type": "stream",
          "name": "stdout",
          "text": [
            "    recall: 0.956192 precision: 0.903652 mAP@0.5: 0.916467, mAP@0.5-0.95: 0.544652\n",
            "\n",
            "Epoch 11/25\n",
            "----------\n",
            "Train: \n"
          ]
        },
        {
          "output_type": "stream",
          "name": "stderr",
          "text": [
            "240it [00:54,  4.42it/s]\n"
          ]
        },
        {
          "output_type": "stream",
          "name": "stdout",
          "text": [
            "    box loss-> 0.01964, object loss-> 0.01497, class loss-> 0.00244\n",
            "Validation:\n"
          ]
        },
        {
          "output_type": "stream",
          "name": "stderr",
          "text": [
            "120it [00:23,  5.19it/s]\n"
          ]
        },
        {
          "output_type": "stream",
          "name": "stdout",
          "text": [
            "    recall: 0.959133 precision: 0.940807 mAP@0.5: 0.946213, mAP@0.5-0.95: 0.636000\n",
            "\n",
            "Epoch 12/25\n",
            "----------\n",
            "Train: \n"
          ]
        },
        {
          "output_type": "stream",
          "name": "stderr",
          "text": [
            "240it [00:54,  4.38it/s]\n"
          ]
        },
        {
          "output_type": "stream",
          "name": "stdout",
          "text": [
            "    box loss-> 0.01887, object loss-> 0.01411, class loss-> 0.00242\n",
            "Validation:\n"
          ]
        },
        {
          "output_type": "stream",
          "name": "stderr",
          "text": [
            "120it [00:24,  4.91it/s]\n"
          ]
        },
        {
          "output_type": "stream",
          "name": "stdout",
          "text": [
            "    recall: 0.983315 precision: 0.962915 mAP@0.5: 0.974892, mAP@0.5-0.95: 0.653479\n",
            "\n",
            "Epoch 13/25\n",
            "----------\n",
            "Train: \n"
          ]
        },
        {
          "output_type": "stream",
          "name": "stderr",
          "text": [
            "240it [00:54,  4.37it/s]\n"
          ]
        },
        {
          "output_type": "stream",
          "name": "stdout",
          "text": [
            "    box loss-> 0.01778, object loss-> 0.01361, class loss-> 0.00212\n",
            "Validation:\n"
          ]
        },
        {
          "output_type": "stream",
          "name": "stderr",
          "text": [
            "120it [00:22,  5.26it/s]\n"
          ]
        },
        {
          "output_type": "stream",
          "name": "stdout",
          "text": [
            "    recall: 0.975000 precision: 0.937782 mAP@0.5: 0.939969, mAP@0.5-0.95: 0.639744\n",
            "\n",
            "Epoch 14/25\n",
            "----------\n",
            "Train: \n"
          ]
        },
        {
          "output_type": "stream",
          "name": "stderr",
          "text": [
            "240it [00:54,  4.43it/s]\n"
          ]
        },
        {
          "output_type": "stream",
          "name": "stdout",
          "text": [
            "    box loss-> 0.01690, object loss-> 0.01293, class loss-> 0.00165\n",
            "Validation:\n"
          ]
        },
        {
          "output_type": "stream",
          "name": "stderr",
          "text": [
            "120it [00:21,  5.49it/s]\n"
          ]
        },
        {
          "output_type": "stream",
          "name": "stdout",
          "text": [
            "    recall: 0.975000 precision: 0.909653 mAP@0.5: 0.933023, mAP@0.5-0.95: 0.654018\n",
            "\n",
            "Epoch 15/25\n",
            "----------\n",
            "Train: \n"
          ]
        },
        {
          "output_type": "stream",
          "name": "stderr",
          "text": [
            "240it [00:53,  4.46it/s]\n"
          ]
        },
        {
          "output_type": "stream",
          "name": "stdout",
          "text": [
            "    box loss-> 0.01488, object loss-> 0.01195, class loss-> 0.00164\n",
            "Validation:\n"
          ]
        },
        {
          "output_type": "stream",
          "name": "stderr",
          "text": [
            "120it [00:22,  5.24it/s]\n"
          ]
        },
        {
          "output_type": "stream",
          "name": "stdout",
          "text": [
            "    recall: 0.966651 precision: 0.934236 mAP@0.5: 0.940351, mAP@0.5-0.95: 0.664033\n",
            "\n",
            "Epoch 16/25\n",
            "----------\n",
            "Train: \n"
          ]
        },
        {
          "output_type": "stream",
          "name": "stderr",
          "text": [
            "240it [00:54,  4.43it/s]\n"
          ]
        },
        {
          "output_type": "stream",
          "name": "stdout",
          "text": [
            "    box loss-> 0.01380, object loss-> 0.01127, class loss-> 0.00150\n",
            "Validation:\n"
          ]
        },
        {
          "output_type": "stream",
          "name": "stderr",
          "text": [
            "120it [00:21,  5.48it/s]\n"
          ]
        },
        {
          "output_type": "stream",
          "name": "stdout",
          "text": [
            "    recall: 0.949946 precision: 0.919482 mAP@0.5: 0.923759, mAP@0.5-0.95: 0.652607\n",
            "\n",
            "Epoch 17/25\n",
            "----------\n",
            "Train: \n"
          ]
        },
        {
          "output_type": "stream",
          "name": "stderr",
          "text": [
            "240it [00:53,  4.47it/s]\n"
          ]
        },
        {
          "output_type": "stream",
          "name": "stdout",
          "text": [
            "    box loss-> 0.01377, object loss-> 0.01135, class loss-> 0.00131\n",
            "Validation:\n"
          ]
        },
        {
          "output_type": "stream",
          "name": "stderr",
          "text": [
            "120it [00:21,  5.51it/s]\n"
          ]
        },
        {
          "output_type": "stream",
          "name": "stdout",
          "text": [
            "    recall: 0.970813 precision: 0.923412 mAP@0.5: 0.934522, mAP@0.5-0.95: 0.647831\n",
            "\n",
            "Epoch 18/25\n",
            "----------\n",
            "Train: \n"
          ]
        },
        {
          "output_type": "stream",
          "name": "stderr",
          "text": [
            "240it [00:54,  4.44it/s]\n"
          ]
        },
        {
          "output_type": "stream",
          "name": "stdout",
          "text": [
            "    box loss-> 0.01247, object loss-> 0.01071, class loss-> 0.00115\n",
            "Validation:\n"
          ]
        },
        {
          "output_type": "stream",
          "name": "stderr",
          "text": [
            "120it [00:21,  5.67it/s]\n"
          ]
        },
        {
          "output_type": "stream",
          "name": "stdout",
          "text": [
            "    recall: 0.954167 precision: 0.918600 mAP@0.5: 0.921605, mAP@0.5-0.95: 0.678532\n",
            "\n",
            "Epoch 19/25\n",
            "----------\n",
            "Train: \n"
          ]
        },
        {
          "output_type": "stream",
          "name": "stderr",
          "text": [
            "240it [00:53,  4.46it/s]\n"
          ]
        },
        {
          "output_type": "stream",
          "name": "stdout",
          "text": [
            "    box loss-> 0.01187, object loss-> 0.01015, class loss-> 0.00106\n",
            "Validation:\n"
          ]
        },
        {
          "output_type": "stream",
          "name": "stderr",
          "text": [
            "120it [00:21,  5.64it/s]\n"
          ]
        },
        {
          "output_type": "stream",
          "name": "stdout",
          "text": [
            "    recall: 0.934799 precision: 0.922393 mAP@0.5: 0.907909, mAP@0.5-0.95: 0.647396\n",
            "\n",
            "Epoch 20/25\n",
            "----------\n",
            "Train: \n"
          ]
        },
        {
          "output_type": "stream",
          "name": "stderr",
          "text": [
            "240it [00:54,  4.42it/s]\n"
          ]
        },
        {
          "output_type": "stream",
          "name": "stdout",
          "text": [
            "    box loss-> 0.01076, object loss-> 0.00969, class loss-> 0.00094\n",
            "Validation:\n"
          ]
        },
        {
          "output_type": "stream",
          "name": "stderr",
          "text": [
            "120it [00:21,  5.56it/s]\n"
          ]
        },
        {
          "output_type": "stream",
          "name": "stdout",
          "text": [
            "    recall: 0.945833 precision: 0.918804 mAP@0.5: 0.910198, mAP@0.5-0.95: 0.655879\n",
            "\n",
            "Epoch 21/25\n",
            "----------\n",
            "Train: \n"
          ]
        },
        {
          "output_type": "stream",
          "name": "stderr",
          "text": [
            "240it [00:54,  4.43it/s]\n"
          ]
        },
        {
          "output_type": "stream",
          "name": "stdout",
          "text": [
            "    box loss-> 0.00931, object loss-> 0.00853, class loss-> 0.00087\n",
            "Validation:\n"
          ]
        },
        {
          "output_type": "stream",
          "name": "stderr",
          "text": [
            "120it [00:21,  5.71it/s]\n"
          ]
        },
        {
          "output_type": "stream",
          "name": "stdout",
          "text": [
            "    recall: 0.958333 precision: 0.937174 mAP@0.5: 0.931960, mAP@0.5-0.95: 0.682410\n",
            "\n",
            "Epoch 22/25\n",
            "----------\n",
            "Train: \n"
          ]
        },
        {
          "output_type": "stream",
          "name": "stderr",
          "text": [
            "240it [00:54,  4.42it/s]\n"
          ]
        },
        {
          "output_type": "stream",
          "name": "stdout",
          "text": [
            "    box loss-> 0.00900, object loss-> 0.00851, class loss-> 0.00065\n",
            "Validation:\n"
          ]
        },
        {
          "output_type": "stream",
          "name": "stderr",
          "text": [
            "120it [00:20,  5.75it/s]\n"
          ]
        },
        {
          "output_type": "stream",
          "name": "stdout",
          "text": [
            "    recall: 0.945806 precision: 0.926692 mAP@0.5: 0.920352, mAP@0.5-0.95: 0.673209\n",
            "\n",
            "Epoch 23/25\n",
            "----------\n",
            "Train: \n"
          ]
        },
        {
          "output_type": "stream",
          "name": "stderr",
          "text": [
            "240it [00:53,  4.45it/s]\n"
          ]
        },
        {
          "output_type": "stream",
          "name": "stdout",
          "text": [
            "    box loss-> 0.00778, object loss-> 0.00763, class loss-> 0.00061\n",
            "Validation:\n"
          ]
        },
        {
          "output_type": "stream",
          "name": "stderr",
          "text": [
            "120it [00:21,  5.57it/s]\n"
          ]
        },
        {
          "output_type": "stream",
          "name": "stdout",
          "text": [
            "    recall: 0.941856 precision: 0.931546 mAP@0.5: 0.918804, mAP@0.5-0.95: 0.675644\n",
            "\n",
            "Epoch 24/25\n",
            "----------\n",
            "Train: \n"
          ]
        },
        {
          "output_type": "stream",
          "name": "stderr",
          "text": [
            "240it [00:54,  4.43it/s]\n"
          ]
        },
        {
          "output_type": "stream",
          "name": "stdout",
          "text": [
            "    box loss-> 0.00733, object loss-> 0.00738, class loss-> 0.00046\n",
            "Validation:\n"
          ]
        },
        {
          "output_type": "stream",
          "name": "stderr",
          "text": [
            "120it [00:21,  5.62it/s]\n"
          ]
        },
        {
          "output_type": "stream",
          "name": "stdout",
          "text": [
            "    recall: 0.966552 precision: 0.937960 mAP@0.5: 0.940013, mAP@0.5-0.95: 0.688502\n",
            "\n",
            "Epoch 25/25\n",
            "----------\n",
            "Train: \n"
          ]
        },
        {
          "output_type": "stream",
          "name": "stderr",
          "text": [
            "240it [00:54,  4.43it/s]\n"
          ]
        },
        {
          "output_type": "stream",
          "name": "stdout",
          "text": [
            "    box loss-> 0.00696, object loss-> 0.00708, class loss-> 0.00040\n",
            "Validation:\n"
          ]
        },
        {
          "output_type": "stream",
          "name": "stderr",
          "text": [
            "120it [00:21,  5.71it/s]\n"
          ]
        },
        {
          "output_type": "stream",
          "name": "stdout",
          "text": [
            "    recall: 0.950000 precision: 0.930350 mAP@0.5: 0.915305, mAP@0.5-0.95: 0.671194\n",
            "\n",
            "Training completed in 36m 40s\n"
          ]
        }
      ]
    },
    {
      "cell_type": "markdown",
      "source": [
        "#26th to 50th using last saved model"
      ],
      "metadata": {
        "id": "zxJGXkmSPYgQ"
      }
    },
    {
      "cell_type": "code",
      "source": [
        "from imageai.Detection.Custom import DetectionModelTrainer\n",
        "\n",
        "trainer = DetectionModelTrainer()\n",
        "trainer.setModelTypeAsYOLOv3()\n",
        "trainer.setDataDirectory(data_directory=\"/content/drive/Shareddrives/YOLOv3_imageai_3.0.3/Coffee_PT\")\n",
        "trainer.setTrainConfig(object_names_array=[\"healthy\", \"rust\"], batch_size=4, num_experiments=25, train_from_pretrained_model=\"/content/drive/Shareddrives/YOLOv3_imageai_3.0.3/25th/yolov3_Coffee_PT_last.pt\")\n",
        "trainer.trainModel()"
      ],
      "metadata": {
        "colab": {
          "base_uri": "https://localhost:8080/"
        },
        "id": "DXnfb97nSySV",
        "outputId": "669b5b12-0d12-4971-9697-7de54f18ed63"
      },
      "execution_count": null,
      "outputs": [
        {
          "output_type": "stream",
          "name": "stdout",
          "text": [
            "Generating anchor boxes for training images...\n",
            "thr=0.25: 1.0000 best possible recall, 8.97 anchors past thr\n",
            "n=9, img_size=416, metric_all=0.703/0.910-mean/best, past_thr=0.704-mean: \n",
            "====================\n",
            "Pretrained YOLOv3 model loaded to initialize weights\n",
            "====================\n",
            "Epoch 1/25\n",
            "----------\n",
            "Train: \n"
          ]
        },
        {
          "output_type": "stream",
          "name": "stderr",
          "text": [
            "240it [00:55,  4.35it/s]\n"
          ]
        },
        {
          "output_type": "stream",
          "name": "stdout",
          "text": [
            "    box loss-> 0.01156, object loss-> 0.01000, class loss-> 0.00046\n",
            "Validation:\n"
          ]
        },
        {
          "output_type": "stream",
          "name": "stderr",
          "text": [
            "120it [00:21,  5.57it/s]\n"
          ]
        },
        {
          "output_type": "stream",
          "name": "stdout",
          "text": [
            "    recall: 0.970833 precision: 0.924780 mAP@0.5: 0.930714, mAP@0.5-0.95: 0.640916\n",
            "\n",
            "Epoch 2/25\n",
            "----------\n",
            "Train: \n"
          ]
        },
        {
          "output_type": "stream",
          "name": "stderr",
          "text": [
            "240it [00:55,  4.35it/s]\n"
          ]
        },
        {
          "output_type": "stream",
          "name": "stdout",
          "text": [
            "    box loss-> 0.01593, object loss-> 0.01227, class loss-> 0.00098\n",
            "Validation:\n"
          ]
        },
        {
          "output_type": "stream",
          "name": "stderr",
          "text": [
            "120it [00:22,  5.25it/s]\n"
          ]
        },
        {
          "output_type": "stream",
          "name": "stdout",
          "text": [
            "    recall: 0.918402 precision: 0.913196 mAP@0.5: 0.925279, mAP@0.5-0.95: 0.645192\n",
            "\n",
            "Epoch 3/25\n",
            "----------\n",
            "Train: \n"
          ]
        },
        {
          "output_type": "stream",
          "name": "stderr",
          "text": [
            "240it [00:54,  4.42it/s]\n"
          ]
        },
        {
          "output_type": "stream",
          "name": "stdout",
          "text": [
            "    box loss-> 0.01859, object loss-> 0.01339, class loss-> 0.00169\n",
            "Validation:\n"
          ]
        },
        {
          "output_type": "stream",
          "name": "stderr",
          "text": [
            "120it [00:20,  5.90it/s]\n"
          ]
        },
        {
          "output_type": "stream",
          "name": "stdout",
          "text": [
            "    recall: 0.941667 precision: 0.915688 mAP@0.5: 0.925699, mAP@0.5-0.95: 0.645613\n",
            "\n",
            "Epoch 4/25\n",
            "----------\n",
            "Train: \n"
          ]
        },
        {
          "output_type": "stream",
          "name": "stderr",
          "text": [
            "240it [00:53,  4.46it/s]\n"
          ]
        },
        {
          "output_type": "stream",
          "name": "stdout",
          "text": [
            "    box loss-> 0.01845, object loss-> 0.01375, class loss-> 0.00217\n",
            "Validation:\n"
          ]
        },
        {
          "output_type": "stream",
          "name": "stderr",
          "text": [
            "120it [00:21,  5.63it/s]\n"
          ]
        },
        {
          "output_type": "stream",
          "name": "stdout",
          "text": [
            "    recall: 0.937314 precision: 0.882524 mAP@0.5: 0.890474, mAP@0.5-0.95: 0.603120\n",
            "\n",
            "Epoch 5/25\n",
            "----------\n",
            "Train: \n"
          ]
        },
        {
          "output_type": "stream",
          "name": "stderr",
          "text": [
            "240it [00:54,  4.41it/s]\n"
          ]
        },
        {
          "output_type": "stream",
          "name": "stdout",
          "text": [
            "    box loss-> 0.01794, object loss-> 0.01407, class loss-> 0.00209\n",
            "Validation:\n"
          ]
        },
        {
          "output_type": "stream",
          "name": "stderr",
          "text": [
            "120it [00:19,  6.23it/s]\n"
          ]
        },
        {
          "output_type": "stream",
          "name": "stdout",
          "text": [
            "    recall: 0.954167 precision: 0.919441 mAP@0.5: 0.930446, mAP@0.5-0.95: 0.627939\n",
            "\n",
            "Epoch 6/25\n",
            "----------\n",
            "Train: \n"
          ]
        },
        {
          "output_type": "stream",
          "name": "stderr",
          "text": [
            "240it [00:54,  4.42it/s]\n"
          ]
        },
        {
          "output_type": "stream",
          "name": "stdout",
          "text": [
            "    box loss-> 0.01768, object loss-> 0.01409, class loss-> 0.00218\n",
            "Validation:\n"
          ]
        },
        {
          "output_type": "stream",
          "name": "stderr",
          "text": [
            "120it [00:20,  5.98it/s]\n"
          ]
        },
        {
          "output_type": "stream",
          "name": "stdout",
          "text": [
            "    recall: 0.887500 precision: 0.860053 mAP@0.5: 0.835487, mAP@0.5-0.95: 0.570476\n",
            "\n",
            "Epoch 7/25\n",
            "----------\n",
            "Train: \n"
          ]
        },
        {
          "output_type": "stream",
          "name": "stderr",
          "text": [
            "240it [00:53,  4.48it/s]\n"
          ]
        },
        {
          "output_type": "stream",
          "name": "stdout",
          "text": [
            "    box loss-> 0.01590, object loss-> 0.01283, class loss-> 0.00191\n",
            "Validation:\n"
          ]
        },
        {
          "output_type": "stream",
          "name": "stderr",
          "text": [
            "120it [00:18,  6.37it/s]\n"
          ]
        },
        {
          "output_type": "stream",
          "name": "stdout",
          "text": [
            "    recall: 0.929167 precision: 0.906241 mAP@0.5: 0.903912, mAP@0.5-0.95: 0.609791\n",
            "\n",
            "Epoch 8/25\n",
            "----------\n",
            "Train: \n"
          ]
        },
        {
          "output_type": "stream",
          "name": "stderr",
          "text": [
            "240it [00:53,  4.50it/s]\n"
          ]
        },
        {
          "output_type": "stream",
          "name": "stdout",
          "text": [
            "    box loss-> 0.01516, object loss-> 0.01234, class loss-> 0.00158\n",
            "Validation:\n"
          ]
        },
        {
          "output_type": "stream",
          "name": "stderr",
          "text": [
            "120it [00:18,  6.45it/s]\n"
          ]
        },
        {
          "output_type": "stream",
          "name": "stdout",
          "text": [
            "    recall: 0.966653 precision: 0.903833 mAP@0.5: 0.915718, mAP@0.5-0.95: 0.672949\n",
            "\n",
            "Epoch 9/25\n",
            "----------\n",
            "Train: \n"
          ]
        },
        {
          "output_type": "stream",
          "name": "stderr",
          "text": [
            "240it [00:53,  4.51it/s]\n"
          ]
        },
        {
          "output_type": "stream",
          "name": "stdout",
          "text": [
            "    box loss-> 0.01464, object loss-> 0.01196, class loss-> 0.00157\n",
            "Validation:\n"
          ]
        },
        {
          "output_type": "stream",
          "name": "stderr",
          "text": [
            "120it [00:19,  6.16it/s]\n"
          ]
        },
        {
          "output_type": "stream",
          "name": "stdout",
          "text": [
            "    recall: 0.973984 precision: 0.917761 mAP@0.5: 0.927142, mAP@0.5-0.95: 0.629450\n",
            "\n",
            "Epoch 10/25\n",
            "----------\n",
            "Train: \n"
          ]
        },
        {
          "output_type": "stream",
          "name": "stderr",
          "text": [
            "240it [00:52,  4.59it/s]\n"
          ]
        },
        {
          "output_type": "stream",
          "name": "stdout",
          "text": [
            "    box loss-> 0.01452, object loss-> 0.01185, class loss-> 0.00149\n",
            "Validation:\n"
          ]
        },
        {
          "output_type": "stream",
          "name": "stderr",
          "text": [
            "120it [00:19,  6.26it/s]\n"
          ]
        },
        {
          "output_type": "stream",
          "name": "stdout",
          "text": [
            "    recall: 0.983322 precision: 0.913622 mAP@0.5: 0.928191, mAP@0.5-0.95: 0.683342\n",
            "\n",
            "Epoch 11/25\n",
            "----------\n",
            "Train: \n"
          ]
        },
        {
          "output_type": "stream",
          "name": "stderr",
          "text": [
            "240it [00:53,  4.51it/s]\n"
          ]
        },
        {
          "output_type": "stream",
          "name": "stdout",
          "text": [
            "    box loss-> 0.01387, object loss-> 0.01166, class loss-> 0.00143\n",
            "Validation:\n"
          ]
        },
        {
          "output_type": "stream",
          "name": "stderr",
          "text": [
            "120it [00:18,  6.55it/s]\n"
          ]
        },
        {
          "output_type": "stream",
          "name": "stdout",
          "text": [
            "    recall: 0.979167 precision: 0.913048 mAP@0.5: 0.933907, mAP@0.5-0.95: 0.709946\n",
            "\n",
            "Epoch 12/25\n",
            "----------\n",
            "Train: \n"
          ]
        },
        {
          "output_type": "stream",
          "name": "stderr",
          "text": [
            "240it [00:54,  4.44it/s]\n"
          ]
        },
        {
          "output_type": "stream",
          "name": "stdout",
          "text": [
            "    box loss-> 0.01195, object loss-> 0.01040, class loss-> 0.00129\n",
            "Validation:\n"
          ]
        },
        {
          "output_type": "stream",
          "name": "stderr",
          "text": [
            "120it [00:17,  6.78it/s]\n"
          ]
        },
        {
          "output_type": "stream",
          "name": "stdout",
          "text": [
            "    recall: 0.975000 precision: 0.908543 mAP@0.5: 0.919320, mAP@0.5-0.95: 0.672948\n",
            "\n",
            "Epoch 13/25\n",
            "----------\n",
            "Train: \n"
          ]
        },
        {
          "output_type": "stream",
          "name": "stderr",
          "text": [
            "240it [00:53,  4.48it/s]\n"
          ]
        },
        {
          "output_type": "stream",
          "name": "stdout",
          "text": [
            "    box loss-> 0.01198, object loss-> 0.01025, class loss-> 0.00117\n",
            "Validation:\n"
          ]
        },
        {
          "output_type": "stream",
          "name": "stderr",
          "text": [
            "120it [00:17,  6.70it/s]\n"
          ]
        },
        {
          "output_type": "stream",
          "name": "stdout",
          "text": [
            "    recall: 0.962394 precision: 0.934562 mAP@0.5: 0.933084, mAP@0.5-0.95: 0.719095\n",
            "\n",
            "Epoch 14/25\n",
            "----------\n",
            "Train: \n"
          ]
        },
        {
          "output_type": "stream",
          "name": "stderr",
          "text": [
            "240it [00:52,  4.59it/s]\n"
          ]
        },
        {
          "output_type": "stream",
          "name": "stdout",
          "text": [
            "    box loss-> 0.01100, object loss-> 0.01003, class loss-> 0.00116\n",
            "Validation:\n"
          ]
        },
        {
          "output_type": "stream",
          "name": "stderr",
          "text": [
            "120it [00:18,  6.45it/s]\n"
          ]
        },
        {
          "output_type": "stream",
          "name": "stdout",
          "text": [
            "    recall: 0.954167 precision: 0.909828 mAP@0.5: 0.922589, mAP@0.5-0.95: 0.703098\n",
            "\n",
            "Epoch 15/25\n",
            "----------\n",
            "Train: \n"
          ]
        },
        {
          "output_type": "stream",
          "name": "stderr",
          "text": [
            "240it [00:52,  4.54it/s]\n"
          ]
        },
        {
          "output_type": "stream",
          "name": "stdout",
          "text": [
            "    box loss-> 0.01066, object loss-> 0.00948, class loss-> 0.00103\n",
            "Validation:\n"
          ]
        },
        {
          "output_type": "stream",
          "name": "stderr",
          "text": [
            "120it [00:17,  6.79it/s]\n"
          ]
        },
        {
          "output_type": "stream",
          "name": "stdout",
          "text": [
            "    recall: 0.983317 precision: 0.918413 mAP@0.5: 0.934227, mAP@0.5-0.95: 0.709286\n",
            "\n",
            "Epoch 16/25\n",
            "----------\n",
            "Train: \n"
          ]
        },
        {
          "output_type": "stream",
          "name": "stderr",
          "text": [
            "240it [00:54,  4.41it/s]\n"
          ]
        },
        {
          "output_type": "stream",
          "name": "stdout",
          "text": [
            "    box loss-> 0.00993, object loss-> 0.00907, class loss-> 0.00099\n",
            "Validation:\n"
          ]
        },
        {
          "output_type": "stream",
          "name": "stderr",
          "text": [
            "120it [00:17,  6.84it/s]\n"
          ]
        },
        {
          "output_type": "stream",
          "name": "stdout",
          "text": [
            "    recall: 0.962455 precision: 0.916506 mAP@0.5: 0.923263, mAP@0.5-0.95: 0.710430\n",
            "\n",
            "Epoch 17/25\n",
            "----------\n",
            "Train: \n"
          ]
        },
        {
          "output_type": "stream",
          "name": "stderr",
          "text": [
            "240it [00:53,  4.52it/s]\n"
          ]
        },
        {
          "output_type": "stream",
          "name": "stdout",
          "text": [
            "    box loss-> 0.00939, object loss-> 0.00871, class loss-> 0.00095\n",
            "Validation:\n"
          ]
        },
        {
          "output_type": "stream",
          "name": "stderr",
          "text": [
            "120it [00:17,  6.96it/s]\n"
          ]
        },
        {
          "output_type": "stream",
          "name": "stdout",
          "text": [
            "    recall: 0.958333 precision: 0.919093 mAP@0.5: 0.936591, mAP@0.5-0.95: 0.691226\n",
            "\n",
            "Epoch 18/25\n",
            "----------\n",
            "Train: \n"
          ]
        },
        {
          "output_type": "stream",
          "name": "stderr",
          "text": [
            "240it [00:53,  4.45it/s]\n"
          ]
        },
        {
          "output_type": "stream",
          "name": "stdout",
          "text": [
            "    box loss-> 0.00841, object loss-> 0.00780, class loss-> 0.00092\n",
            "Validation:\n"
          ]
        },
        {
          "output_type": "stream",
          "name": "stderr",
          "text": [
            "120it [00:18,  6.52it/s]\n"
          ]
        },
        {
          "output_type": "stream",
          "name": "stdout",
          "text": [
            "    recall: 0.966667 precision: 0.907576 mAP@0.5: 0.918876, mAP@0.5-0.95: 0.705683\n",
            "\n",
            "Epoch 19/25\n",
            "----------\n",
            "Train: \n"
          ]
        },
        {
          "output_type": "stream",
          "name": "stderr",
          "text": [
            "240it [00:52,  4.54it/s]\n"
          ]
        },
        {
          "output_type": "stream",
          "name": "stdout",
          "text": [
            "    box loss-> 0.00786, object loss-> 0.00765, class loss-> 0.00067\n",
            "Validation:\n"
          ]
        },
        {
          "output_type": "stream",
          "name": "stderr",
          "text": [
            "120it [00:17,  6.77it/s]\n"
          ]
        },
        {
          "output_type": "stream",
          "name": "stdout",
          "text": [
            "    recall: 0.966667 precision: 0.934981 mAP@0.5: 0.939577, mAP@0.5-0.95: 0.715003\n",
            "\n",
            "Epoch 20/25\n",
            "----------\n",
            "Train: \n"
          ]
        },
        {
          "output_type": "stream",
          "name": "stderr",
          "text": [
            "240it [00:53,  4.44it/s]\n"
          ]
        },
        {
          "output_type": "stream",
          "name": "stdout",
          "text": [
            "    box loss-> 0.00737, object loss-> 0.00716, class loss-> 0.00060\n",
            "Validation:\n"
          ]
        },
        {
          "output_type": "stream",
          "name": "stderr",
          "text": [
            "120it [00:17,  6.85it/s]\n"
          ]
        },
        {
          "output_type": "stream",
          "name": "stdout",
          "text": [
            "    recall: 0.979167 precision: 0.911947 mAP@0.5: 0.936062, mAP@0.5-0.95: 0.727010\n",
            "\n",
            "Epoch 21/25\n",
            "----------\n",
            "Train: \n"
          ]
        },
        {
          "output_type": "stream",
          "name": "stderr",
          "text": [
            "240it [00:54,  4.38it/s]\n"
          ]
        },
        {
          "output_type": "stream",
          "name": "stdout",
          "text": [
            "    box loss-> 0.00627, object loss-> 0.00641, class loss-> 0.00058\n",
            "Validation:\n"
          ]
        },
        {
          "output_type": "stream",
          "name": "stderr",
          "text": [
            "120it [00:17,  6.93it/s]\n"
          ]
        },
        {
          "output_type": "stream",
          "name": "stdout",
          "text": [
            "    recall: 0.954167 precision: 0.919617 mAP@0.5: 0.926643, mAP@0.5-0.95: 0.715662\n",
            "\n",
            "Epoch 22/25\n",
            "----------\n",
            "Train: \n"
          ]
        },
        {
          "output_type": "stream",
          "name": "stderr",
          "text": [
            "240it [00:53,  4.48it/s]\n"
          ]
        },
        {
          "output_type": "stream",
          "name": "stdout",
          "text": [
            "    box loss-> 0.00584, object loss-> 0.00606, class loss-> 0.00044\n",
            "Validation:\n"
          ]
        },
        {
          "output_type": "stream",
          "name": "stderr",
          "text": [
            "120it [00:17,  6.71it/s]\n"
          ]
        },
        {
          "output_type": "stream",
          "name": "stdout",
          "text": [
            "    recall: 0.954167 precision: 0.902393 mAP@0.5: 0.919810, mAP@0.5-0.95: 0.713243\n",
            "\n",
            "Epoch 23/25\n",
            "----------\n",
            "Train: \n"
          ]
        },
        {
          "output_type": "stream",
          "name": "stderr",
          "text": [
            "240it [00:53,  4.45it/s]\n"
          ]
        },
        {
          "output_type": "stream",
          "name": "stdout",
          "text": [
            "    box loss-> 0.00551, object loss-> 0.00583, class loss-> 0.00039\n",
            "Validation:\n"
          ]
        },
        {
          "output_type": "stream",
          "name": "stderr",
          "text": [
            "120it [00:18,  6.60it/s]\n"
          ]
        },
        {
          "output_type": "stream",
          "name": "stdout",
          "text": [
            "    recall: 0.970616 precision: 0.938718 mAP@0.5: 0.939474, mAP@0.5-0.95: 0.735806\n",
            "\n",
            "Epoch 24/25\n",
            "----------\n",
            "Train: \n"
          ]
        },
        {
          "output_type": "stream",
          "name": "stderr",
          "text": [
            "240it [00:54,  4.44it/s]\n"
          ]
        },
        {
          "output_type": "stream",
          "name": "stdout",
          "text": [
            "    box loss-> 0.00499, object loss-> 0.00534, class loss-> 0.00034\n",
            "Validation:\n"
          ]
        },
        {
          "output_type": "stream",
          "name": "stderr",
          "text": [
            "120it [00:17,  6.90it/s]\n"
          ]
        },
        {
          "output_type": "stream",
          "name": "stdout",
          "text": [
            "    recall: 0.960468 precision: 0.917092 mAP@0.5: 0.928688, mAP@0.5-0.95: 0.721686\n",
            "\n",
            "Epoch 25/25\n",
            "----------\n",
            "Train: \n"
          ]
        },
        {
          "output_type": "stream",
          "name": "stderr",
          "text": [
            "240it [00:53,  4.48it/s]\n"
          ]
        },
        {
          "output_type": "stream",
          "name": "stdout",
          "text": [
            "    box loss-> 0.00483, object loss-> 0.00522, class loss-> 0.00031\n",
            "Validation:\n"
          ]
        },
        {
          "output_type": "stream",
          "name": "stderr",
          "text": [
            "120it [00:17,  6.94it/s]\n"
          ]
        },
        {
          "output_type": "stream",
          "name": "stdout",
          "text": [
            "    recall: 0.958333 precision: 0.910760 mAP@0.5: 0.927967, mAP@0.5-0.95: 0.720737\n",
            "\n",
            "Training completed in 30m 19s\n"
          ]
        }
      ]
    },
    {
      "cell_type": "markdown",
      "source": [
        "#26th to 50th using the model with highest mAP"
      ],
      "metadata": {
        "id": "rbKA7ERCPfFm"
      }
    },
    {
      "cell_type": "code",
      "source": [
        "from imageai.Detection.Custom import DetectionModelTrainer\n",
        "\n",
        "trainer = DetectionModelTrainer()\n",
        "trainer.setModelTypeAsYOLOv3()\n",
        "trainer.setDataDirectory(data_directory=\"/content/drive/Shareddrives/YOLOv3_imageai_3.0.3/Coffee_PT\")\n",
        "trainer.setTrainConfig(object_names_array=[\"healthy\", \"rust\"], batch_size=4, num_experiments=25, train_from_pretrained_model=\"/content/drive/Shareddrives/YOLOv3_imageai_3.0.3/25th/yolov3_Coffee_PT_mAP-0.97489_epoch-12.pt\")\n",
        "trainer.trainModel()"
      ],
      "metadata": {
        "colab": {
          "base_uri": "https://localhost:8080/"
        },
        "id": "WZXbvlKZN4sp",
        "outputId": "a9c804f0-59b5-45a7-a99d-0f859546fdeb"
      },
      "execution_count": null,
      "outputs": [
        {
          "metadata": {
            "tags": null
          },
          "name": "stdout",
          "output_type": "stream",
          "text": [
            "Generating anchor boxes for training images...\n",
            "thr=0.25: 1.0000 best possible recall, 8.97 anchors past thr\n",
            "n=9, img_size=416, metric_all=0.702/0.910-mean/best, past_thr=0.703-mean: \n",
            "====================\n",
            "Pretrained YOLOv3 model loaded to initialize weights\n",
            "====================\n",
            "Epoch 1/25\n",
            "----------\n",
            "Train: \n"
          ]
        },
        {
          "metadata": {
            "tags": null
          },
          "name": "stderr",
          "output_type": "stream",
          "text": [
            "240it [01:04,  3.72it/s]\n"
          ]
        },
        {
          "metadata": {
            "tags": null
          },
          "name": "stdout",
          "output_type": "stream",
          "text": [
            "    box loss-> 0.01651, object loss-> 0.01105, class loss-> 0.00132\n",
            "Validation:\n"
          ]
        },
        {
          "metadata": {
            "tags": null
          },
          "name": "stderr",
          "output_type": "stream",
          "text": [
            "120it [00:24,  4.90it/s]\n"
          ]
        },
        {
          "metadata": {
            "tags": null
          },
          "name": "stdout",
          "output_type": "stream",
          "text": [
            "    recall: 0.975000 precision: 0.940637 mAP@0.5: 0.942449, mAP@0.5-0.95: 0.672507\n",
            "\n",
            "Epoch 2/25\n",
            "----------\n",
            "Train: \n"
          ]
        },
        {
          "metadata": {
            "tags": null
          },
          "name": "stderr",
          "output_type": "stream",
          "text": [
            "240it [00:56,  4.24it/s]\n"
          ]
        },
        {
          "metadata": {
            "tags": null
          },
          "name": "stdout",
          "output_type": "stream",
          "text": [
            "    box loss-> 0.01736, object loss-> 0.01342, class loss-> 0.00119\n",
            "Validation:\n"
          ]
        },
        {
          "metadata": {
            "tags": null
          },
          "name": "stderr",
          "output_type": "stream",
          "text": [
            "120it [00:24,  4.94it/s]\n"
          ]
        },
        {
          "metadata": {
            "tags": null
          },
          "name": "stdout",
          "output_type": "stream",
          "text": [
            "    recall: 0.936550 precision: 0.908164 mAP@0.5: 0.880526, mAP@0.5-0.95: 0.581737\n",
            "\n",
            "Epoch 3/25\n",
            "----------\n",
            "Train: \n"
          ]
        },
        {
          "metadata": {
            "tags": null
          },
          "name": "stderr",
          "output_type": "stream",
          "text": [
            "240it [00:55,  4.32it/s]\n"
          ]
        },
        {
          "metadata": {
            "tags": null
          },
          "name": "stdout",
          "output_type": "stream",
          "text": [
            "    box loss-> 0.01889, object loss-> 0.01443, class loss-> 0.00190\n",
            "Validation:\n"
          ]
        },
        {
          "metadata": {
            "tags": null
          },
          "name": "stderr",
          "output_type": "stream",
          "text": [
            "120it [00:23,  5.02it/s]\n"
          ]
        },
        {
          "metadata": {
            "tags": null
          },
          "name": "stdout",
          "output_type": "stream",
          "text": [
            "    recall: 0.970833 precision: 0.932275 mAP@0.5: 0.941391, mAP@0.5-0.95: 0.611999\n",
            "\n",
            "Epoch 4/25\n",
            "----------\n",
            "Train: \n"
          ]
        },
        {
          "metadata": {
            "tags": null
          },
          "name": "stderr",
          "output_type": "stream",
          "text": [
            "240it [00:55,  4.34it/s]\n"
          ]
        },
        {
          "metadata": {
            "tags": null
          },
          "name": "stdout",
          "output_type": "stream",
          "text": [
            "    box loss-> 0.02007, object loss-> 0.01493, class loss-> 0.00256\n",
            "Validation:\n"
          ]
        },
        {
          "metadata": {
            "tags": null
          },
          "name": "stderr",
          "output_type": "stream",
          "text": [
            "120it [00:24,  4.91it/s]\n"
          ]
        },
        {
          "metadata": {
            "tags": null
          },
          "name": "stdout",
          "output_type": "stream",
          "text": [
            "    recall: 0.933535 precision: 0.908165 mAP@0.5: 0.899055, mAP@0.5-0.95: 0.610175\n",
            "\n",
            "Epoch 5/25\n",
            "----------\n",
            "Train: \n"
          ]
        },
        {
          "metadata": {
            "tags": null
          },
          "name": "stderr",
          "output_type": "stream",
          "text": [
            "240it [00:55,  4.34it/s]\n"
          ]
        },
        {
          "metadata": {
            "tags": null
          },
          "name": "stdout",
          "output_type": "stream",
          "text": [
            "    box loss-> 0.02065, object loss-> 0.01522, class loss-> 0.00258\n",
            "Validation:\n"
          ]
        },
        {
          "metadata": {
            "tags": null
          },
          "name": "stderr",
          "output_type": "stream",
          "text": [
            "120it [00:23,  5.19it/s]\n"
          ]
        },
        {
          "metadata": {
            "tags": null
          },
          "name": "stdout",
          "output_type": "stream",
          "text": [
            "    recall: 0.975000 precision: 0.929375 mAP@0.5: 0.942467, mAP@0.5-0.95: 0.592454\n",
            "\n",
            "Epoch 6/25\n",
            "----------\n",
            "Train: \n"
          ]
        },
        {
          "metadata": {
            "tags": null
          },
          "name": "stderr",
          "output_type": "stream",
          "text": [
            "240it [00:56,  4.26it/s]\n"
          ]
        },
        {
          "metadata": {
            "tags": null
          },
          "name": "stdout",
          "output_type": "stream",
          "text": [
            "    box loss-> 0.01887, object loss-> 0.01445, class loss-> 0.00219\n",
            "Validation:\n"
          ]
        },
        {
          "metadata": {
            "tags": null
          },
          "name": "stderr",
          "output_type": "stream",
          "text": [
            "120it [00:21,  5.60it/s]\n"
          ]
        },
        {
          "metadata": {
            "tags": null
          },
          "name": "stdout",
          "output_type": "stream",
          "text": [
            "    recall: 0.962120 precision: 0.888002 mAP@0.5: 0.894801, mAP@0.5-0.95: 0.632254\n",
            "\n",
            "Epoch 7/25\n",
            "----------\n",
            "Train: \n"
          ]
        },
        {
          "metadata": {
            "tags": null
          },
          "name": "stderr",
          "output_type": "stream",
          "text": [
            "240it [00:55,  4.35it/s]\n"
          ]
        },
        {
          "metadata": {
            "tags": null
          },
          "name": "stdout",
          "output_type": "stream",
          "text": [
            "    box loss-> 0.01724, object loss-> 0.01339, class loss-> 0.00206\n",
            "Validation:\n"
          ]
        },
        {
          "metadata": {
            "tags": null
          },
          "name": "stderr",
          "output_type": "stream",
          "text": [
            "120it [00:22,  5.38it/s]\n"
          ]
        },
        {
          "metadata": {
            "tags": null
          },
          "name": "stdout",
          "output_type": "stream",
          "text": [
            "    recall: 0.958312 precision: 0.921330 mAP@0.5: 0.906651, mAP@0.5-0.95: 0.614085\n",
            "\n",
            "Epoch 8/25\n",
            "----------\n",
            "Train: \n"
          ]
        },
        {
          "metadata": {
            "tags": null
          },
          "name": "stderr",
          "output_type": "stream",
          "text": [
            "240it [00:55,  4.32it/s]\n"
          ]
        },
        {
          "metadata": {
            "tags": null
          },
          "name": "stdout",
          "output_type": "stream",
          "text": [
            "    box loss-> 0.01631, object loss-> 0.01294, class loss-> 0.00201\n",
            "Validation:\n"
          ]
        },
        {
          "metadata": {
            "tags": null
          },
          "name": "stderr",
          "output_type": "stream",
          "text": [
            "120it [00:21,  5.61it/s]\n"
          ]
        },
        {
          "metadata": {
            "tags": null
          },
          "name": "stdout",
          "output_type": "stream",
          "text": [
            "    recall: 0.970832 precision: 0.929998 mAP@0.5: 0.916625, mAP@0.5-0.95: 0.656957\n",
            "\n",
            "Epoch 9/25\n",
            "----------\n",
            "Train: \n"
          ]
        },
        {
          "metadata": {
            "tags": null
          },
          "name": "stderr",
          "output_type": "stream",
          "text": [
            "240it [00:55,  4.35it/s]\n"
          ]
        },
        {
          "metadata": {
            "tags": null
          },
          "name": "stdout",
          "output_type": "stream",
          "text": [
            "    box loss-> 0.01650, object loss-> 0.01271, class loss-> 0.00179\n",
            "Validation:\n"
          ]
        },
        {
          "metadata": {
            "tags": null
          },
          "name": "stderr",
          "output_type": "stream",
          "text": [
            "120it [00:21,  5.71it/s]\n"
          ]
        },
        {
          "metadata": {
            "tags": null
          },
          "name": "stdout",
          "output_type": "stream",
          "text": [
            "    recall: 0.979152 precision: 0.949443 mAP@0.5: 0.953998, mAP@0.5-0.95: 0.678509\n",
            "\n",
            "Epoch 10/25\n",
            "----------\n",
            "Train: \n"
          ]
        },
        {
          "metadata": {
            "tags": null
          },
          "name": "stderr",
          "output_type": "stream",
          "text": [
            "240it [00:55,  4.29it/s]\n"
          ]
        },
        {
          "metadata": {
            "tags": null
          },
          "name": "stdout",
          "output_type": "stream",
          "text": [
            "    box loss-> 0.01492, object loss-> 0.01202, class loss-> 0.00155\n",
            "Validation:\n"
          ]
        },
        {
          "metadata": {
            "tags": null
          },
          "name": "stderr",
          "output_type": "stream",
          "text": [
            "120it [00:20,  5.73it/s]\n"
          ]
        },
        {
          "metadata": {
            "tags": null
          },
          "name": "stdout",
          "output_type": "stream",
          "text": [
            "    recall: 0.966636 precision: 0.921607 mAP@0.5: 0.916451, mAP@0.5-0.95: 0.663555\n",
            "\n",
            "Epoch 11/25\n",
            "----------\n",
            "Train: \n"
          ]
        },
        {
          "metadata": {
            "tags": null
          },
          "name": "stderr",
          "output_type": "stream",
          "text": [
            "240it [00:55,  4.34it/s]\n"
          ]
        },
        {
          "metadata": {
            "tags": null
          },
          "name": "stdout",
          "output_type": "stream",
          "text": [
            "    box loss-> 0.01383, object loss-> 0.01156, class loss-> 0.00157\n",
            "Validation:\n"
          ]
        },
        {
          "metadata": {
            "tags": null
          },
          "name": "stderr",
          "output_type": "stream",
          "text": [
            "120it [00:19,  6.16it/s]\n"
          ]
        },
        {
          "metadata": {
            "tags": null
          },
          "name": "stdout",
          "output_type": "stream",
          "text": [
            "    recall: 0.962500 precision: 0.928016 mAP@0.5: 0.926849, mAP@0.5-0.95: 0.637588\n",
            "\n",
            "Epoch 12/25\n",
            "----------\n",
            "Train: \n"
          ]
        },
        {
          "metadata": {
            "tags": null
          },
          "name": "stderr",
          "output_type": "stream",
          "text": [
            "240it [00:55,  4.33it/s]\n"
          ]
        },
        {
          "metadata": {
            "tags": null
          },
          "name": "stdout",
          "output_type": "stream",
          "text": [
            "    box loss-> 0.01292, object loss-> 0.01101, class loss-> 0.00148\n",
            "Validation:\n"
          ]
        },
        {
          "metadata": {
            "tags": null
          },
          "name": "stderr",
          "output_type": "stream",
          "text": [
            "120it [00:19,  6.02it/s]\n"
          ]
        },
        {
          "metadata": {
            "tags": null
          },
          "name": "stdout",
          "output_type": "stream",
          "text": [
            "    recall: 0.950000 precision: 0.925088 mAP@0.5: 0.907814, mAP@0.5-0.95: 0.652224\n",
            "\n",
            "Epoch 13/25\n",
            "----------\n",
            "Train: \n"
          ]
        },
        {
          "metadata": {
            "tags": null
          },
          "name": "stderr",
          "output_type": "stream",
          "text": [
            "240it [00:55,  4.34it/s]\n"
          ]
        },
        {
          "metadata": {
            "tags": null
          },
          "name": "stdout",
          "output_type": "stream",
          "text": [
            "    box loss-> 0.01290, object loss-> 0.01083, class loss-> 0.00128\n",
            "Validation:\n"
          ]
        },
        {
          "metadata": {
            "tags": null
          },
          "name": "stderr",
          "output_type": "stream",
          "text": [
            "120it [00:19,  6.01it/s]\n"
          ]
        },
        {
          "metadata": {
            "tags": null
          },
          "name": "stdout",
          "output_type": "stream",
          "text": [
            "    recall: 0.983333 precision: 0.939710 mAP@0.5: 0.933357, mAP@0.5-0.95: 0.683615\n",
            "\n",
            "Epoch 14/25\n",
            "----------\n",
            "Train: \n"
          ]
        },
        {
          "metadata": {
            "tags": null
          },
          "name": "stderr",
          "output_type": "stream",
          "text": [
            "240it [00:55,  4.33it/s]\n"
          ]
        },
        {
          "metadata": {
            "tags": null
          },
          "name": "stdout",
          "output_type": "stream",
          "text": [
            "    box loss-> 0.01201, object loss-> 0.01024, class loss-> 0.00134\n",
            "Validation:\n"
          ]
        },
        {
          "metadata": {
            "tags": null
          },
          "name": "stderr",
          "output_type": "stream",
          "text": [
            "120it [00:19,  6.29it/s]\n"
          ]
        },
        {
          "metadata": {
            "tags": null
          },
          "name": "stdout",
          "output_type": "stream",
          "text": [
            "    recall: 0.983323 precision: 0.937709 mAP@0.5: 0.935974, mAP@0.5-0.95: 0.679777\n",
            "\n",
            "Epoch 15/25\n",
            "----------\n",
            "Train: \n"
          ]
        },
        {
          "metadata": {
            "tags": null
          },
          "name": "stderr",
          "output_type": "stream",
          "text": [
            "240it [00:55,  4.33it/s]\n"
          ]
        },
        {
          "metadata": {
            "tags": null
          },
          "name": "stdout",
          "output_type": "stream",
          "text": [
            "    box loss-> 0.01152, object loss-> 0.01024, class loss-> 0.00120\n",
            "Validation:\n"
          ]
        },
        {
          "metadata": {
            "tags": null
          },
          "name": "stderr",
          "output_type": "stream",
          "text": [
            "120it [00:19,  6.02it/s]\n"
          ]
        },
        {
          "metadata": {
            "tags": null
          },
          "name": "stdout",
          "output_type": "stream",
          "text": [
            "    recall: 0.962479 precision: 0.931413 mAP@0.5: 0.927631, mAP@0.5-0.95: 0.667169\n",
            "\n",
            "Epoch 16/25\n",
            "----------\n",
            "Train: \n"
          ]
        },
        {
          "output_type": "stream",
          "name": "stderr",
          "text": [
            "240it [00:54,  4.37it/s]\n"
          ]
        },
        {
          "output_type": "stream",
          "name": "stdout",
          "text": [
            "    box loss-> 0.01113, object loss-> 0.00987, class loss-> 0.00086\n",
            "Validation:\n"
          ]
        },
        {
          "output_type": "stream",
          "name": "stderr",
          "text": [
            "120it [00:18,  6.35it/s]\n"
          ]
        },
        {
          "output_type": "stream",
          "name": "stdout",
          "text": [
            "    recall: 0.954592 precision: 0.934781 mAP@0.5: 0.914461, mAP@0.5-0.95: 0.664229\n",
            "\n",
            "Epoch 17/25\n",
            "----------\n",
            "Train: \n"
          ]
        },
        {
          "output_type": "stream",
          "name": "stderr",
          "text": [
            "240it [00:54,  4.43it/s]\n"
          ]
        },
        {
          "output_type": "stream",
          "name": "stdout",
          "text": [
            "    box loss-> 0.01036, object loss-> 0.00926, class loss-> 0.00109\n",
            "Validation:\n"
          ]
        },
        {
          "output_type": "stream",
          "name": "stderr",
          "text": [
            "120it [00:19,  6.13it/s]\n"
          ]
        },
        {
          "output_type": "stream",
          "name": "stdout",
          "text": [
            "    recall: 0.950009 precision: 0.931630 mAP@0.5: 0.930591, mAP@0.5-0.95: 0.691801\n",
            "\n",
            "Epoch 18/25\n",
            "----------\n",
            "Train: \n"
          ]
        },
        {
          "output_type": "stream",
          "name": "stderr",
          "text": [
            "240it [00:54,  4.40it/s]\n"
          ]
        },
        {
          "output_type": "stream",
          "name": "stdout",
          "text": [
            "    box loss-> 0.00942, object loss-> 0.00871, class loss-> 0.00082\n",
            "Validation:\n"
          ]
        },
        {
          "output_type": "stream",
          "name": "stderr",
          "text": [
            "120it [00:18,  6.47it/s]\n"
          ]
        },
        {
          "output_type": "stream",
          "name": "stdout",
          "text": [
            "    recall: 0.974996 precision: 0.938671 mAP@0.5: 0.940695, mAP@0.5-0.95: 0.707859\n",
            "\n",
            "Epoch 19/25\n",
            "----------\n",
            "Train: \n"
          ]
        },
        {
          "output_type": "stream",
          "name": "stderr",
          "text": [
            "240it [00:55,  4.32it/s]\n"
          ]
        },
        {
          "output_type": "stream",
          "name": "stdout",
          "text": [
            "    box loss-> 0.00845, object loss-> 0.00799, class loss-> 0.00079\n",
            "Validation:\n"
          ]
        },
        {
          "output_type": "stream",
          "name": "stderr",
          "text": [
            "120it [00:18,  6.54it/s]\n"
          ]
        },
        {
          "output_type": "stream",
          "name": "stdout",
          "text": [
            "    recall: 0.970823 precision: 0.930637 mAP@0.5: 0.929274, mAP@0.5-0.95: 0.712400\n",
            "\n",
            "Epoch 20/25\n",
            "----------\n",
            "Train: \n"
          ]
        },
        {
          "output_type": "stream",
          "name": "stderr",
          "text": [
            "240it [00:54,  4.41it/s]\n"
          ]
        },
        {
          "output_type": "stream",
          "name": "stdout",
          "text": [
            "    box loss-> 0.00801, object loss-> 0.00769, class loss-> 0.00072\n",
            "Validation:\n"
          ]
        },
        {
          "output_type": "stream",
          "name": "stderr",
          "text": [
            "120it [00:18,  6.36it/s]\n"
          ]
        },
        {
          "output_type": "stream",
          "name": "stdout",
          "text": [
            "    recall: 0.970833 precision: 0.929140 mAP@0.5: 0.930033, mAP@0.5-0.95: 0.707081\n",
            "\n",
            "Epoch 21/25\n",
            "----------\n",
            "Train: \n"
          ]
        },
        {
          "output_type": "stream",
          "name": "stderr",
          "text": [
            "240it [00:54,  4.43it/s]\n"
          ]
        },
        {
          "output_type": "stream",
          "name": "stdout",
          "text": [
            "    box loss-> 0.00707, object loss-> 0.00686, class loss-> 0.00059\n",
            "Validation:\n"
          ]
        },
        {
          "output_type": "stream",
          "name": "stderr",
          "text": [
            "120it [00:18,  6.61it/s]\n"
          ]
        },
        {
          "output_type": "stream",
          "name": "stdout",
          "text": [
            "    recall: 0.966664 precision: 0.933543 mAP@0.5: 0.929008, mAP@0.5-0.95: 0.703923\n",
            "\n",
            "Epoch 22/25\n",
            "----------\n",
            "Train: \n"
          ]
        },
        {
          "output_type": "stream",
          "name": "stderr",
          "text": [
            "240it [00:54,  4.43it/s]\n"
          ]
        },
        {
          "output_type": "stream",
          "name": "stdout",
          "text": [
            "    box loss-> 0.00655, object loss-> 0.00658, class loss-> 0.00049\n",
            "Validation:\n"
          ]
        },
        {
          "output_type": "stream",
          "name": "stderr",
          "text": [
            "120it [00:19,  6.26it/s]\n"
          ]
        },
        {
          "output_type": "stream",
          "name": "stdout",
          "text": [
            "    recall: 0.966662 precision: 0.926860 mAP@0.5: 0.919169, mAP@0.5-0.95: 0.700012\n",
            "\n",
            "Epoch 23/25\n",
            "----------\n",
            "Train: \n"
          ]
        },
        {
          "output_type": "stream",
          "name": "stderr",
          "text": [
            "240it [00:54,  4.37it/s]\n"
          ]
        },
        {
          "output_type": "stream",
          "name": "stdout",
          "text": [
            "    box loss-> 0.00580, object loss-> 0.00609, class loss-> 0.00043\n",
            "Validation:\n"
          ]
        },
        {
          "output_type": "stream",
          "name": "stderr",
          "text": [
            "120it [00:18,  6.51it/s]\n"
          ]
        },
        {
          "output_type": "stream",
          "name": "stdout",
          "text": [
            "    recall: 0.967123 precision: 0.936753 mAP@0.5: 0.931487, mAP@0.5-0.95: 0.704874\n",
            "\n",
            "Epoch 24/25\n",
            "----------\n",
            "Train: \n"
          ]
        },
        {
          "output_type": "stream",
          "name": "stderr",
          "text": [
            "240it [00:55,  4.35it/s]\n"
          ]
        },
        {
          "output_type": "stream",
          "name": "stdout",
          "text": [
            "    box loss-> 0.00551, object loss-> 0.00585, class loss-> 0.00035\n",
            "Validation:\n"
          ]
        },
        {
          "output_type": "stream",
          "name": "stderr",
          "text": [
            "120it [00:18,  6.57it/s]\n"
          ]
        },
        {
          "output_type": "stream",
          "name": "stdout",
          "text": [
            "    recall: 0.962284 precision: 0.928568 mAP@0.5: 0.918001, mAP@0.5-0.95: 0.699157\n",
            "\n",
            "Epoch 25/25\n",
            "----------\n",
            "Train: \n"
          ]
        },
        {
          "output_type": "stream",
          "name": "stderr",
          "text": [
            "240it [00:54,  4.41it/s]\n"
          ]
        },
        {
          "output_type": "stream",
          "name": "stdout",
          "text": [
            "    box loss-> 0.00533, object loss-> 0.00572, class loss-> 0.00031\n",
            "Validation:\n"
          ]
        },
        {
          "output_type": "stream",
          "name": "stderr",
          "text": [
            "120it [00:18,  6.32it/s]\n"
          ]
        },
        {
          "output_type": "stream",
          "name": "stdout",
          "text": [
            "    recall: 0.958731 precision: 0.937953 mAP@0.5: 0.920678, mAP@0.5-0.95: 0.705646\n",
            "\n",
            "Training completed in 31m 47s\n"
          ]
        }
      ]
    },
    {
      "cell_type": "markdown",
      "source": [
        "#Inference Try"
      ],
      "metadata": {
        "id": "OoeZMqplctKB"
      }
    },
    {
      "cell_type": "markdown",
      "source": [
        "##Healthy"
      ],
      "metadata": {
        "id": "C8Kx6KuEdm1N"
      }
    },
    {
      "cell_type": "code",
      "source": [
        "from imageai.Detection.Custom import CustomObjectDetection\n",
        "\n",
        "detector = CustomObjectDetection()\n",
        "detector.setModelTypeAsYOLOv3()\n",
        "detector.setModelPath(\"/content/drive/Shareddrives/YOLOv3_imageai_3.0.3/25th/yolov3_Coffee_PT_mAP-0.97489_epoch-12.pt\")\n",
        "detector.setJsonPath(\"/content/drive/Shareddrives/YOLOv3_imageai_3.0.3/25th/Coffee_PT_yolov3_detection_config.json\")\n",
        "detector.loadModel()\n",
        "detections = detector.detectObjectsFromImage(input_image=\"/content/drive/Shareddrives/YOLOv3_imageai_3.0.3/Inference_Try/healthy (775).jpg\", output_image_path=\"/content/drive/Shareddrives/YOLOv3_imageai_3.0.3/Inference_Try/healthy (775) - detected.jpg\")\n",
        "for detection in detections:\n",
        "    print(detection[\"name\"], \" : \", detection[\"percentage_probability\"], \" : \", detection[\"box_points\"])"
      ],
      "metadata": {
        "colab": {
          "base_uri": "https://localhost:8080/"
        },
        "id": "XSFQNzlacsnF",
        "outputId": "7ccdae5c-7d8b-4ced-f96c-58d9a5e246ae"
      },
      "execution_count": null,
      "outputs": [
        {
          "output_type": "stream",
          "name": "stdout",
          "text": [
            "healthy  :  92.75  :  [147, 72, 990, 1888]\n"
          ]
        }
      ]
    },
    {
      "cell_type": "code",
      "source": [
        "from imageai.Detection.Custom import CustomObjectDetection\n",
        "\n",
        "detector = CustomObjectDetection()\n",
        "detector.setModelTypeAsYOLOv3()\n",
        "detector.setModelPath(\"/content/drive/Shareddrives/YOLOv3_imageai_3.0.3/25th/yolov3_Coffee_PT_mAP-0.97489_epoch-12.pt\")\n",
        "detector.setJsonPath(\"/content/drive/Shareddrives/YOLOv3_imageai_3.0.3/25th/Coffee_PT_yolov3_detection_config.json\")\n",
        "detector.loadModel()\n",
        "detections = detector.detectObjectsFromImage(input_image=\"/content/drive/Shareddrives/YOLOv3_imageai_3.0.3/Inference_Try/healthy (785).jpg\", output_image_path=\"/content/drive/Shareddrives/YOLOv3_imageai_3.0.3/Inference_Try/healthy (785) - detected.jpg\")\n",
        "for detection in detections:\n",
        "    print(detection[\"name\"], \" : \", detection[\"percentage_probability\"], \" : \", detection[\"box_points\"])"
      ],
      "metadata": {
        "colab": {
          "base_uri": "https://localhost:8080/"
        },
        "id": "jqw9mcIRhTX6",
        "outputId": "b9348656-cce3-46f8-8510-326404bec0d7"
      },
      "execution_count": null,
      "outputs": [
        {
          "output_type": "stream",
          "name": "stdout",
          "text": [
            "healthy  :  97.61  :  [148, 132, 1056, 1627]\n"
          ]
        }
      ]
    },
    {
      "cell_type": "code",
      "source": [
        "from imageai.Detection.Custom import CustomObjectDetection\n",
        "\n",
        "detector = CustomObjectDetection()\n",
        "detector.setModelTypeAsYOLOv3()\n",
        "detector.setModelPath(\"/content/drive/Shareddrives/YOLOv3_imageai_3.0.3/25th/yolov3_Coffee_PT_mAP-0.97489_epoch-12.pt\")\n",
        "detector.setJsonPath(\"/content/drive/Shareddrives/YOLOv3_imageai_3.0.3/25th/Coffee_PT_yolov3_detection_config.json\")\n",
        "detector.loadModel()\n",
        "detections = detector.detectObjectsFromImage(input_image=\"/content/drive/Shareddrives/YOLOv3_imageai_3.0.3/Inference_Try/healthy (787).jpg\", output_image_path=\"/content/drive/Shareddrives/YOLOv3_imageai_3.0.3/Inference_Try/healthy (787) - detected.jpg\")\n",
        "for detection in detections:\n",
        "    print(detection[\"name\"], \" : \", detection[\"percentage_probability\"], \" : \", detection[\"box_points\"])"
      ],
      "metadata": {
        "colab": {
          "base_uri": "https://localhost:8080/"
        },
        "id": "roSwHftDL8Q9",
        "outputId": "65ddbd03-aefd-472e-aadb-eeb1a2de0b67"
      },
      "execution_count": null,
      "outputs": [
        {
          "output_type": "stream",
          "name": "stdout",
          "text": [
            "healthy  :  93.84  :  [166, 78, 965, 1955]\n"
          ]
        }
      ]
    },
    {
      "cell_type": "code",
      "source": [
        "from imageai.Detection.Custom import CustomObjectDetection\n",
        "\n",
        "detector = CustomObjectDetection()\n",
        "detector.setModelTypeAsYOLOv3()\n",
        "detector.setModelPath(\"/content/drive/Shareddrives/YOLOv3_imageai_3.0.3/25th/yolov3_Coffee_PT_mAP-0.97489_epoch-12.pt\")\n",
        "detector.setJsonPath(\"/content/drive/Shareddrives/YOLOv3_imageai_3.0.3/25th/Coffee_PT_yolov3_detection_config.json\")\n",
        "detector.loadModel()\n",
        "detections = detector.detectObjectsFromImage(input_image=\"/content/drive/Shareddrives/YOLOv3_imageai_3.0.3/Inference_Try/healthy (788).jpg\", output_image_path=\"/content/drive/Shareddrives/YOLOv3_imageai_3.0.3/Inference_Try/healthy (788) - detected.jpg\")\n",
        "for detection in detections:\n",
        "    print(detection[\"name\"], \" : \", detection[\"percentage_probability\"], \" : \", detection[\"box_points\"])"
      ],
      "metadata": {
        "colab": {
          "base_uri": "https://localhost:8080/"
        },
        "id": "UVBN9sMNL8wF",
        "outputId": "179ae9b6-7258-40bc-fef3-7449e6dd0eae"
      },
      "execution_count": null,
      "outputs": [
        {
          "output_type": "stream",
          "name": "stdout",
          "text": [
            "healthy  :  92.54  :  [463, 248, 907, 1875]\n"
          ]
        }
      ]
    },
    {
      "cell_type": "code",
      "source": [
        "from imageai.Detection.Custom import CustomObjectDetection\n",
        "\n",
        "detector = CustomObjectDetection()\n",
        "detector.setModelTypeAsYOLOv3()\n",
        "detector.setModelPath(\"/content/drive/Shareddrives/YOLOv3_imageai_3.0.3/25th/yolov3_Coffee_PT_mAP-0.97489_epoch-12.pt\")\n",
        "detector.setJsonPath(\"/content/drive/Shareddrives/YOLOv3_imageai_3.0.3/25th/Coffee_PT_yolov3_detection_config.json\")\n",
        "detector.loadModel()\n",
        "detections = detector.detectObjectsFromImage(input_image=\"/content/drive/Shareddrives/YOLOv3_imageai_3.0.3/Inference_Try/healthy (789).jpg\", output_image_path=\"/content/drive/Shareddrives/YOLOv3_imageai_3.0.3/Inference_Try/healthy (789) - detected.jpg\")\n",
        "for detection in detections:\n",
        "    print(detection[\"name\"], \" : \", detection[\"percentage_probability\"], \" : \", detection[\"box_points\"])"
      ],
      "metadata": {
        "colab": {
          "base_uri": "https://localhost:8080/"
        },
        "id": "z1s5Rz_PL9Qk",
        "outputId": "fa3027e6-3e56-489f-93ef-6cec77ae3906"
      },
      "execution_count": null,
      "outputs": [
        {
          "output_type": "stream",
          "name": "stdout",
          "text": [
            "healthy  :  95.73  :  [224, 33, 922, 2017]\n"
          ]
        }
      ]
    },
    {
      "cell_type": "markdown",
      "source": [
        "##Rust"
      ],
      "metadata": {
        "id": "FzzZLnkVdrt0"
      }
    },
    {
      "cell_type": "code",
      "source": [
        "from imageai.Detection.Custom import CustomObjectDetection\n",
        "\n",
        "detector = CustomObjectDetection()\n",
        "detector.setModelTypeAsYOLOv3()\n",
        "detector.setModelPath(\"/content/drive/Shareddrives/YOLOv3_imageai_3.0.3/25th/yolov3_Coffee_PT_mAP-0.97489_epoch-12.pt\")\n",
        "detector.setJsonPath(\"/content/drive/Shareddrives/YOLOv3_imageai_3.0.3/25th/Coffee_PT_yolov3_detection_config.json\")\n",
        "detector.loadModel()\n",
        "detections = detector.detectObjectsFromImage(input_image=\"/content/drive/Shareddrives/YOLOv3_imageai_3.0.3/Inference_Try/rust (601).jpg\", output_image_path=\"/content/drive/Shareddrives/YOLOv3_imageai_3.0.3/Inference_Try/rust (601) - detected.jpg\")\n",
        "for detection in detections:\n",
        "    print(detection[\"name\"], \" : \", detection[\"percentage_probability\"], \" : \", detection[\"box_points\"])"
      ],
      "metadata": {
        "colab": {
          "base_uri": "https://localhost:8080/"
        },
        "id": "cttXVqdAdtUj",
        "outputId": "814e3091-fbc6-463b-8bc9-c5fd4b476a6d"
      },
      "execution_count": null,
      "outputs": [
        {
          "output_type": "stream",
          "name": "stdout",
          "text": [
            "rust  :  92.15  :  [139, 148, 1030, 1936]\n"
          ]
        }
      ]
    },
    {
      "cell_type": "code",
      "source": [
        "from imageai.Detection.Custom import CustomObjectDetection\n",
        "\n",
        "detector = CustomObjectDetection()\n",
        "detector.setModelTypeAsYOLOv3()\n",
        "detector.setModelPath(\"/content/drive/Shareddrives/YOLOv3_imageai_3.0.3/25th/yolov3_Coffee_PT_mAP-0.97489_epoch-12.pt\")\n",
        "detector.setJsonPath(\"/content/drive/Shareddrives/YOLOv3_imageai_3.0.3/25th/Coffee_PT_yolov3_detection_config.json\")\n",
        "detector.loadModel()\n",
        "detections = detector.detectObjectsFromImage(input_image=\"/content/drive/Shareddrives/YOLOv3_imageai_3.0.3/Inference_Try/rust (602).jpg\", output_image_path=\"/content/drive/Shareddrives/YOLOv3_imageai_3.0.3/Inference_Try/rust (602) - detected.jpg\")\n",
        "for detection in detections:\n",
        "    print(detection[\"name\"], \" : \", detection[\"percentage_probability\"], \" : \", detection[\"box_points\"])"
      ],
      "metadata": {
        "colab": {
          "base_uri": "https://localhost:8080/"
        },
        "id": "scDT5XmXhdg9",
        "outputId": "99319de4-6fc5-4799-d4d4-b4a507686fb2"
      },
      "execution_count": null,
      "outputs": [
        {
          "output_type": "stream",
          "name": "stdout",
          "text": [
            "rust  :  88.62  :  [70, 87, 1071, 1736]\n"
          ]
        }
      ]
    },
    {
      "cell_type": "code",
      "source": [
        "from imageai.Detection.Custom import CustomObjectDetection\n",
        "\n",
        "detector = CustomObjectDetection()\n",
        "detector.setModelTypeAsYOLOv3()\n",
        "detector.setModelPath(\"/content/drive/Shareddrives/YOLOv3_imageai_3.0.3/25th/yolov3_Coffee_PT_mAP-0.97489_epoch-12.pt\")\n",
        "detector.setJsonPath(\"/content/drive/Shareddrives/YOLOv3_imageai_3.0.3/25th/Coffee_PT_yolov3_detection_config.json\")\n",
        "detector.loadModel()\n",
        "detections = detector.detectObjectsFromImage(input_image=\"/content/drive/Shareddrives/YOLOv3_imageai_3.0.3/Inference_Try/rust (570).jpg\", output_image_path=\"/content/drive/Shareddrives/YOLOv3_imageai_3.0.3/Inference_Try/rust-570.jpg\")\n",
        "for detection in detections:\n",
        "    print(detection[\"name\"], \" : \", detection[\"percentage_probability\"], \" : \", detection[\"box_points\"])"
      ],
      "metadata": {
        "colab": {
          "base_uri": "https://localhost:8080/"
        },
        "id": "KmumWWVDXBiJ",
        "outputId": "7bd19fdb-e840-449b-daa5-c8f99d015512"
      },
      "execution_count": null,
      "outputs": [
        {
          "output_type": "stream",
          "name": "stdout",
          "text": [
            "rust  :  94.1  :  [120, 66, 1068, 1769]\n"
          ]
        }
      ]
    },
    {
      "cell_type": "code",
      "source": [
        "from imageai.Detection.Custom import CustomObjectDetection\n",
        "\n",
        "detector = CustomObjectDetection()\n",
        "detector.setModelTypeAsYOLOv3()\n",
        "detector.setModelPath(\"/content/drive/Shareddrives/YOLOv3_imageai_3.0.3/25th/yolov3_Coffee_PT_mAP-0.97489_epoch-12.pt\")\n",
        "detector.setJsonPath(\"/content/drive/Shareddrives/YOLOv3_imageai_3.0.3/25th/Coffee_PT_yolov3_detection_config.json\")\n",
        "detector.loadModel()\n",
        "detections = detector.detectObjectsFromImage(input_image=\"/content/drive/Shareddrives/YOLOv3_imageai_3.0.3/Inference_Try/rust (551).jpg\", output_image_path=\"/content/drive/Shareddrives/YOLOv3_imageai_3.0.3/Inference_Try/rust-551.jpg\")\n",
        "for detection in detections:\n",
        "    print(detection[\"name\"], \" : \", detection[\"percentage_probability\"], \" : \", detection[\"box_points\"])"
      ],
      "metadata": {
        "colab": {
          "base_uri": "https://localhost:8080/"
        },
        "id": "j_GpkqVPXCRu",
        "outputId": "382cd59d-f8f5-41aa-9562-a3235783c180"
      },
      "execution_count": null,
      "outputs": [
        {
          "output_type": "stream",
          "name": "stdout",
          "text": [
            "rust  :  96.8  :  [147, 0, 968, 2048]\n"
          ]
        }
      ]
    },
    {
      "cell_type": "code",
      "source": [
        "from imageai.Detection.Custom import CustomObjectDetection\n",
        "\n",
        "detector = CustomObjectDetection()\n",
        "detector.setModelTypeAsYOLOv3()\n",
        "detector.setModelPath(\"/content/drive/Shareddrives/YOLOv3_imageai_3.0.3/25th/yolov3_Coffee_PT_mAP-0.97489_epoch-12.pt\")\n",
        "detector.setJsonPath(\"/content/drive/Shareddrives/YOLOv3_imageai_3.0.3/25th/Coffee_PT_yolov3_detection_config.json\")\n",
        "detector.loadModel()\n",
        "detections = detector.detectObjectsFromImage(input_image=\"/content/drive/Shareddrives/YOLOv3_imageai_3.0.3/Inference_Try/rust (517).jpg\", output_image_path=\"/content/drive/Shareddrives/YOLOv3_imageai_3.0.3/Inference_Try/rust-517.jpg\")\n",
        "for detection in detections:\n",
        "    print(detection[\"name\"], \" : \", detection[\"percentage_probability\"], \" : \", detection[\"box_points\"])"
      ],
      "metadata": {
        "colab": {
          "base_uri": "https://localhost:8080/"
        },
        "id": "tqOtv061XCns",
        "outputId": "94a32676-0405-4b6f-e98f-1769eada0fd9"
      },
      "execution_count": null,
      "outputs": [
        {
          "output_type": "stream",
          "name": "stdout",
          "text": [
            "rust  :  95.13  :  [125, 215, 846, 1843]\n"
          ]
        }
      ]
    }
  ]
}